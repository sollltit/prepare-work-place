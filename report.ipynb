{
 "cells": [
  {
   "cell_type": "markdown",
   "metadata": {},
   "source": [
    "# Подготовка рабочего места"
   ]
  },
  {
   "cell_type": "markdown",
   "metadata": {},
   "source": [
    "**1.**\n",
    "\n",
    "* Проверяем, установлен ли python и, если да, его версию. Если он не установлен или установлена не та версия, скачиваем python с [официального сайта](https://www.python.org/) в нужной версии и устанавливаем."
   ]
  },
  {
   "cell_type": "markdown",
   "metadata": {},
   "source": [
    "**2.**\n",
    "\n",
    "Скачиваем и устанавливаем [git](https://git-scm.com/) и [GitHub Desktop](https://github.com/apps/desktop) для контроля версий."
   ]
  },
  {
   "cell_type": "markdown",
   "metadata": {},
   "source": [
    "**3.**\n",
    "\n",
    "* Проверяем, есть ли на компьютере Visual Studio Code. Если нет, устанавливаем его с [официального сайта](https://code.visualstudio.com/Download), выбрав версию, подходящую под операционную систему."
   ]
  },
  {
   "cell_type": "markdown",
   "metadata": {},
   "source": [
    "* В  Visual Studio Code скачиваем расширения jupyter и python. \n",
    "\n",
    "* Создаём папку и открываем её с помощью VS Code. Создаём виртуальное окружение (выбираем установленную версию python, в идеале 3.9-3.10), активируем его в command promt. Далее создаём файл с расширением \".ipynb\", нажимаем на \"Select Kernel\" и выбираем ядро. \n",
    "В терминале инсталлируем ipykernel:\n",
    ">```py\n",
    ">pip install ipykernel \n",
    ">```"
   ]
  },
  {
   "cell_type": "markdown",
   "metadata": {},
   "source": [
    "**4.**\n",
    "\n",
    "Устанавливаем в виртуальное окружение необходимые библиотеки:\n",
    "\n",
    "```py\n",
    "pip install pandas\n",
    "pip install numpy\n",
    "pip install opencv-python\n",
    "pip install scikit-learn\n",
    "pip install pillow\n",
    "pip install streamlit\n",
    "pip install deepface\n",
    "pip install ultralytics\n",
    "pip install seaborn\n",
    "pip install matplotlib\n",
    " ```"
   ]
  },
  {
   "cell_type": "markdown",
   "metadata": {},
   "source": [
    "_________________________________________________________________________________________"
   ]
  },
  {
   "cell_type": "markdown",
   "metadata": {},
   "source": [
    "* Скачиваем и устанавливаем [Cuda-toolkit](https://developer.nvidia.com/CUda-toolkit)\n",
    "\n",
    "* Установка PyTorch:\n",
    "\n",
    "На [официальном сайте](https://pytorch.org/) смотрим команду для установки необходимой версии (cuda/cpu)\n",
    "\n",
    "Далее проверяем на видеокарту\n",
    "\n",
    "```py\n",
    "import torch\n",
    "print(torch.cuda.is_available())       # True\n",
    "print(torch.cuda.get_device_name())    # NVIDIA GeForce RTX 2080 SUPER\n",
    "```"
   ]
  },
  {
   "cell_type": "markdown",
   "metadata": {},
   "source": [
    "**5.**\n",
    "\n",
    "Скачиваем [Yolo Annotation Tool Master](https://github.com/ManzarIMalik/YOLO-Annotation-Tool?ysclid=m6j3oc0858472764180)"
   ]
  },
  {
   "cell_type": "markdown",
   "metadata": {},
   "source": [
    "**7.**\n",
    "\n",
    "Проверяем, есть ли на компьютере программы для редактирования текста\\презентация и тд. Если нет, скачиваем [LibreOffice ](https://ru.libreoffice.org)"
   ]
  },
  {
   "cell_type": "markdown",
   "metadata": {},
   "source": [
    "___________________________________________________________________________________________________________________"
   ]
  },
  {
   "cell_type": "markdown",
   "metadata": {},
   "source": [
    "Скачивание весов Yolo:\n",
    "\n",
    "```py\n",
    "model1 = YOLO('yolov8n') \n",
    "model2 = YOLO('yolov8s') \n",
    "model3 = YOLO('yolov10n') \n",
    "model4 = YOLO('yolov10s') \n",
    "```"
   ]
  }
 ],
 "metadata": {
  "kernelspec": {
   "display_name": "Python 3",
   "language": "python",
   "name": "python3"
  },
  "language_info": {
   "codemirror_mode": {
    "name": "ipython",
    "version": 3
   },
   "file_extension": ".py",
   "mimetype": "text/x-python",
   "name": "python",
   "nbconvert_exporter": "python",
   "pygments_lexer": "ipython3",
   "version": "3.11.0"
  }
 },
 "nbformat": 4,
 "nbformat_minor": 2
}
